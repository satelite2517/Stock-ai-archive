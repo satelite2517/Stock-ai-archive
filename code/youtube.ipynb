{
 "cells": [
  {
   "cell_type": "markdown",
   "metadata": {},
   "source": [
    "# Get text info in youtube\n",
    "\n",
    "### - 유튜브 api를 사용해서 키워드에 맞는 동영상의 제목과 댓글을 가져옴."
   ]
  },
  {
   "cell_type": "markdown",
   "metadata": {},
   "source": [
    "## Get list of S&P 500"
   ]
  },
  {
   "cell_type": "code",
   "execution_count": 9,
   "metadata": {},
   "outputs": [
    {
     "data": {
      "text/html": [
       "<div>\n",
       "<style scoped>\n",
       "    .dataframe tbody tr th:only-of-type {\n",
       "        vertical-align: middle;\n",
       "    }\n",
       "\n",
       "    .dataframe tbody tr th {\n",
       "        vertical-align: top;\n",
       "    }\n",
       "\n",
       "    .dataframe thead th {\n",
       "        text-align: right;\n",
       "    }\n",
       "</style>\n",
       "<table border=\"1\" class=\"dataframe\">\n",
       "  <thead>\n",
       "    <tr style=\"text-align: right;\">\n",
       "      <th></th>\n",
       "      <th>Symbol</th>\n",
       "      <th>Security</th>\n",
       "      <th>GICS Sector</th>\n",
       "      <th>GICS Sub-Industry</th>\n",
       "      <th>Headquarters Location</th>\n",
       "      <th>Date added</th>\n",
       "      <th>CIK</th>\n",
       "      <th>Founded</th>\n",
       "    </tr>\n",
       "  </thead>\n",
       "  <tbody>\n",
       "    <tr>\n",
       "      <th>0</th>\n",
       "      <td>MMM</td>\n",
       "      <td>3M</td>\n",
       "      <td>Industrials</td>\n",
       "      <td>Industrial Conglomerates</td>\n",
       "      <td>Saint Paul, Minnesota</td>\n",
       "      <td>1957.3.4</td>\n",
       "      <td>66740</td>\n",
       "      <td>1902</td>\n",
       "    </tr>\n",
       "    <tr>\n",
       "      <th>1</th>\n",
       "      <td>AOS</td>\n",
       "      <td>A. O. Smith</td>\n",
       "      <td>Industrials</td>\n",
       "      <td>Building Products</td>\n",
       "      <td>Milwaukee, Wisconsin</td>\n",
       "      <td>2017.7.26</td>\n",
       "      <td>91142</td>\n",
       "      <td>1916</td>\n",
       "    </tr>\n",
       "    <tr>\n",
       "      <th>2</th>\n",
       "      <td>ABT</td>\n",
       "      <td>Abbott</td>\n",
       "      <td>Health Care</td>\n",
       "      <td>Health Care Equipment</td>\n",
       "      <td>North Chicago, Illinois</td>\n",
       "      <td>1957.3.4</td>\n",
       "      <td>1800</td>\n",
       "      <td>1888</td>\n",
       "    </tr>\n",
       "    <tr>\n",
       "      <th>3</th>\n",
       "      <td>ABBV</td>\n",
       "      <td>AbbVie</td>\n",
       "      <td>Health Care</td>\n",
       "      <td>Biotechnology</td>\n",
       "      <td>North Chicago, Illinois</td>\n",
       "      <td>2012.12.31</td>\n",
       "      <td>1551152</td>\n",
       "      <td>2013 (1888)</td>\n",
       "    </tr>\n",
       "    <tr>\n",
       "      <th>4</th>\n",
       "      <td>ACN</td>\n",
       "      <td>Accenture</td>\n",
       "      <td>Information Technology</td>\n",
       "      <td>IT Consulting &amp; Other Services</td>\n",
       "      <td>Dublin, Ireland</td>\n",
       "      <td>2011.7.6</td>\n",
       "      <td>1467373</td>\n",
       "      <td>1989</td>\n",
       "    </tr>\n",
       "    <tr>\n",
       "      <th>...</th>\n",
       "      <td>...</td>\n",
       "      <td>...</td>\n",
       "      <td>...</td>\n",
       "      <td>...</td>\n",
       "      <td>...</td>\n",
       "      <td>...</td>\n",
       "      <td>...</td>\n",
       "      <td>...</td>\n",
       "    </tr>\n",
       "    <tr>\n",
       "      <th>498</th>\n",
       "      <td>XYL</td>\n",
       "      <td>Xylem Inc.</td>\n",
       "      <td>Industrials</td>\n",
       "      <td>Industrial Machinery &amp; Supplies &amp; Components</td>\n",
       "      <td>White Plains, New York</td>\n",
       "      <td>2011.11.1</td>\n",
       "      <td>1524472</td>\n",
       "      <td>2011</td>\n",
       "    </tr>\n",
       "    <tr>\n",
       "      <th>499</th>\n",
       "      <td>YUM</td>\n",
       "      <td>Yum! Brands</td>\n",
       "      <td>Consumer Discretionary</td>\n",
       "      <td>Restaurants</td>\n",
       "      <td>Louisville, Kentucky</td>\n",
       "      <td>1997.10.6</td>\n",
       "      <td>1041061</td>\n",
       "      <td>1997</td>\n",
       "    </tr>\n",
       "    <tr>\n",
       "      <th>500</th>\n",
       "      <td>ZBRA</td>\n",
       "      <td>Zebra Technologies</td>\n",
       "      <td>Information Technology</td>\n",
       "      <td>Electronic Equipment &amp; Instruments</td>\n",
       "      <td>Lincolnshire, Illinois</td>\n",
       "      <td>2019.12.23</td>\n",
       "      <td>877212</td>\n",
       "      <td>1969</td>\n",
       "    </tr>\n",
       "    <tr>\n",
       "      <th>501</th>\n",
       "      <td>ZBH</td>\n",
       "      <td>Zimmer Biomet</td>\n",
       "      <td>Health Care</td>\n",
       "      <td>Health Care Equipment</td>\n",
       "      <td>Warsaw, Indiana</td>\n",
       "      <td>2001.8.7</td>\n",
       "      <td>1136869</td>\n",
       "      <td>1927</td>\n",
       "    </tr>\n",
       "    <tr>\n",
       "      <th>502</th>\n",
       "      <td>ZTS</td>\n",
       "      <td>Zoetis</td>\n",
       "      <td>Health Care</td>\n",
       "      <td>Pharmaceuticals</td>\n",
       "      <td>Parsippany, New Jersey</td>\n",
       "      <td>2013.6.21</td>\n",
       "      <td>1555280</td>\n",
       "      <td>1952</td>\n",
       "    </tr>\n",
       "  </tbody>\n",
       "</table>\n",
       "<p>503 rows × 8 columns</p>\n",
       "</div>"
      ],
      "text/plain": [
       "    Symbol            Security             GICS Sector  \\\n",
       "0      MMM                  3M             Industrials   \n",
       "1      AOS         A. O. Smith             Industrials   \n",
       "2      ABT              Abbott             Health Care   \n",
       "3     ABBV              AbbVie             Health Care   \n",
       "4      ACN           Accenture  Information Technology   \n",
       "..     ...                 ...                     ...   \n",
       "498    XYL          Xylem Inc.             Industrials   \n",
       "499    YUM         Yum! Brands  Consumer Discretionary   \n",
       "500   ZBRA  Zebra Technologies  Information Technology   \n",
       "501    ZBH       Zimmer Biomet             Health Care   \n",
       "502    ZTS              Zoetis             Health Care   \n",
       "\n",
       "                                GICS Sub-Industry    Headquarters Location  \\\n",
       "0                        Industrial Conglomerates    Saint Paul, Minnesota   \n",
       "1                               Building Products     Milwaukee, Wisconsin   \n",
       "2                           Health Care Equipment  North Chicago, Illinois   \n",
       "3                                   Biotechnology  North Chicago, Illinois   \n",
       "4                  IT Consulting & Other Services          Dublin, Ireland   \n",
       "..                                            ...                      ...   \n",
       "498  Industrial Machinery & Supplies & Components   White Plains, New York   \n",
       "499                                   Restaurants     Louisville, Kentucky   \n",
       "500            Electronic Equipment & Instruments   Lincolnshire, Illinois   \n",
       "501                         Health Care Equipment          Warsaw, Indiana   \n",
       "502                               Pharmaceuticals   Parsippany, New Jersey   \n",
       "\n",
       "     Date added      CIK      Founded  \n",
       "0      1957.3.4    66740         1902  \n",
       "1     2017.7.26    91142         1916  \n",
       "2      1957.3.4     1800         1888  \n",
       "3    2012.12.31  1551152  2013 (1888)  \n",
       "4      2011.7.6  1467373         1989  \n",
       "..          ...      ...          ...  \n",
       "498   2011.11.1  1524472         2011  \n",
       "499   1997.10.6  1041061         1997  \n",
       "500  2019.12.23   877212         1969  \n",
       "501    2001.8.7  1136869         1927  \n",
       "502   2013.6.21  1555280         1952  \n",
       "\n",
       "[503 rows x 8 columns]"
      ]
     },
     "execution_count": 9,
     "metadata": {},
     "output_type": "execute_result"
    }
   ],
   "source": [
    "import pandas as pd\n",
    "\n",
    "real_list = pd.read_csv('real_list.csv')\n",
    "real_list "
   ]
  },
  {
   "cell_type": "markdown",
   "metadata": {},
   "source": [
    "## Run youtube api"
   ]
  },
  {
   "cell_type": "code",
   "execution_count": 2,
   "metadata": {},
   "outputs": [],
   "source": [
    "api_key = '개인apikey로 비공개처리합니다'\n",
    "api_key = '개인apikey로 비공개처리합니다'"
   ]
  },
  {
   "cell_type": "code",
   "execution_count": 3,
   "metadata": {},
   "outputs": [],
   "source": [
    "from oauth2client.client import GoogleCredentials \n",
    "from googleapiclient import discovery\n",
    "from googleapiclient import errors\n",
    "import googleapiclient.discovery\n",
    "from datetime import datetime, timedelta"
   ]
  },
  {
   "cell_type": "code",
   "execution_count": 4,
   "metadata": {},
   "outputs": [],
   "source": [
    "def get_youtube_titles(api_key, query, max_results=5):\n",
    "    # API 클라이언트 생성\n",
    "    youtube = googleapiclient.discovery.build(\"youtube\", \"v3\", developerKey=api_key)\n",
    "    \n",
    "    # 검색 요청\n",
    "    request = youtube.search().list(\n",
    "        part=\"snippet\",\n",
    "        q=query,\n",
    "        type=\"video\",\n",
    "        maxResults=max_results\n",
    "    )\n",
    "    response = request.execute()\n",
    "    \n",
    "    # 동영상 제목 추출\n",
    "    titles = [item['snippet']['title'] for item in response['items']]\n",
    "    return titles\n",
    "\n",
    "# \"Apple\" 관련 동영상 제목 검색\n",
    "titles = get_youtube_titles(api_key, \"iphone\", max_results=5)"
   ]
  },
  {
   "cell_type": "code",
   "execution_count": 46,
   "metadata": {},
   "outputs": [],
   "source": [
    "import os\n",
    "import json\n",
    "\n",
    "\n",
    "def fetch_videos_for_date(query, published_before,published_after):\n",
    "\n",
    "    youtube = googleapiclient.discovery.build(\"youtube\", \"v3\", developerKey=api_key)\n",
    "    \n",
    "    # API 요청 보내기\n",
    "    search_response = youtube.search().list(\n",
    "        q=query,\n",
    "        part='snippet',\n",
    "        maxResults=30,\n",
    "        publishedAfter=published_after,\n",
    "        publishedBefore=published_before,\n",
    "        regionCode='US',\n",
    "        relevanceLanguage='en'\n",
    "    ).execute()\n",
    "\n",
    "    titles = [item['snippet']['title'] for item in search_response['items'] if 'videoId' in item['id']]\n",
    "    print(titles)\n",
    "    ids = [item['id']['videoId'] for item in search_response.get('items', []) if 'videoId' in item['id']]\n",
    "\n",
    "    return titles, ids"
   ]
  },
  {
   "cell_type": "code",
   "execution_count": 43,
   "metadata": {},
   "outputs": [
    {
     "name": "stdout",
     "output_type": "stream",
     "text": [
      "['I&#39;m &#39;most bullish&#39; on Microsoft, says Madrona&#39;s Mike McIlwain after Big Tech&#39;s bumpy week', 'Microsoft Copilot Tutorial for Beginners', 'Why Microsoft Skipped Windows 9 #Shorts']\n"
     ]
    },
    {
     "data": {
      "text/plain": [
       "(['I&#39;m &#39;most bullish&#39; on Microsoft, says Madrona&#39;s Mike McIlwain after Big Tech&#39;s bumpy week',\n",
       "  'Microsoft Copilot Tutorial for Beginners',\n",
       "  'Why Microsoft Skipped Windows 9 #Shorts'],\n",
       " ['lLvInYy1mL4', 'd-CuF6dlqLg', 'F4x_L-bCYBA'])"
      ]
     },
     "execution_count": 43,
     "metadata": {},
     "output_type": "execute_result"
    }
   ],
   "source": [
    "fetch_videos_for_date('Microsoft', '2024-06-29T02:06:58.738266Z', '2024-07-30T02:06:58.738266Z')"
   ]
  },
  {
   "cell_type": "markdown",
   "metadata": {},
   "source": [
    "## List of keyword and query used to search youtube"
   ]
  },
  {
   "cell_type": "code",
   "execution_count": 1,
   "metadata": {},
   "outputs": [],
   "source": [
    "title_list = ['Microsoft','Apple','Nvidia','Alphabet','Amazon','Meta','Tesla']\n",
    "query_list_v2 = ['GOOGL','AAPL','NVDA','MSFT','AMZN','TSLA','META']\n",
    "\n",
    "alphabet = ['Alphabet','Google', 'search engine', 'Android', 'YouTube', 'advertising']\n",
    "amazone = ['Amazon','e-commerce', 'cloud computing', 'Alexa', 'Jeff Bezos', 'Prime membership']\n",
    "apple = ['Apple','iPhone', 'iPad', 'MacBook', 'Apple Watch', 'iOS']\n",
    "meta = ['Meta','instagram', 'virtual reality', 'cryptocurrency', 'NFT', 'Mark Zuckerberg']\n",
    "microsoft = ['Microsoft','Windows', 'Office', 'Azure', 'Surface', 'Bing']\n",
    "ndvia = ['Nvidia','GPU', 'artificial intelligence', 'data center', 'gaming', 'cryptocurrency']\n",
    "tesla = ['Tesla','electric car', 'battery', 'Elon Musk', 'Model S', 'Autopilot']"
   ]
  },
  {
   "cell_type": "markdown",
   "metadata": {},
   "source": [
    "## get title of video in 1 month and 3 month"
   ]
  },
  {
   "cell_type": "code",
   "execution_count": 62,
   "metadata": {},
   "outputs": [
    {
     "name": "stdout",
     "output_type": "stream",
     "text": [
      "GOOGLE 2024-06-29T02:24:53.322119Z 2024-07-30T02:24:53.322119Z\n",
      "['www.google.com', 'Satisfying Google Logo Art #shorts', '🔴 HAPPY BIRTHDAY JJ! 🎂 CoComelon LIVE Best Kids Songs 2024!  + MORE Nursery Rhymes! |', 'Google Maps', 'www.google.com search', 'google meme teacher | google reading funny | google spelling funny', 'How Google Turned a 90-Year-Old Train Terminal Into Its New $2.1B Office | WSJ Open Office', 'Introducing the Google Pixel 9 Pro', '😰I Found a Very Stranger Lips in Real Life On Google Earth! #shorts #findwouldexploring', 'Google — Year in Search 2022', 'Operation Aurora | HACKING GOOGLE | Documentary EP000', 'If Google Was A Guy (Full Series)', 'I Oversimplified the Google Logo!', 'Why &quot;GOOGLE&quot; Is Actually Misspelled 🤔 (EXPLAINED)', 'Google Logo Evolution', 'Everything I Google, Comes To Life in GTA 5!', 'I Found Very Giant CatNap in Real Life On Google Earth and Google Maps 😱!', 'Google — Year in Search 2020', '4 Google Tricks you don&#39;t know! 👀 #shorts', '#google #G #GUN', 'Google + Team USA — Dear Sydney', 'OK Google sounds', 'Donald Trump Shooter’s Shocking Google Searches Revealed by FBI Director', 'Introducing the Google Pixel 9 Pro', 'Must Watch New Very Special Funny Video 2023😂Top New Comedy Video 2023😁Epi 03 by Bidik Fun Ltd', 'Funny Things 😂 People Search on Google 😱||#shorts #youtubeshorts', 'Google की कुछ मजेदार Tricks 😲 | Amazing Google Tricks | The Fact | #shorts #ytshorts', 'Google Logo Intro Compilation - light effects and cartoon characters']\n",
      "GOOGLE 2024-05-01T02:24:53.322119Z 2024-06-30T02:24:53.322119Z\n",
      "['www.google.com', '🔴 HAPPY BIRTHDAY JJ! 🎂 CoComelon LIVE Best Kids Songs 2024!  + MORE Nursery Rhymes! |', 'Google Maps', 'www.google.com search', 'google meme teacher | google reading funny | google spelling funny', 'Introducing the Google Pixel 9 Pro', 'Google — Year in Search 2022', 'If Google Was A Guy (Full Series)', 'Operation Aurora | HACKING GOOGLE | Documentary EP000', 'I Oversimplified the Google Logo!', 'Why &quot;GOOGLE&quot; Is Actually Misspelled 🤔 (EXPLAINED)', 'Everything I Google, Comes To Life in GTA 5!', 'Google Logo Evolution', 'I Found Very Giant CatNap in Real Life On Google Earth and Google Maps 😱!', '#google #G #GUN', 'Google — Year in Search 2020', 'Satisfying Google Logo Art #shorts', 'Google + Team USA — Dear Sydney', 'OK Google sounds', 'Introducing the Google Pixel 9 Pro', 'Donald Trump Shooter’s Shocking Google Searches Revealed by FBI Director', 'Must Watch New Very Special Funny Video 2023😂Top New Comedy Video 2023😁Epi 03 by Bidik Fun Ltd', 'Google Logo Intro Compilation - light effects and cartoon characters', 'Weird Cat Snake Is Real 🐍🤯 on google maps and google earth 🌎 #shots  #hrgoogleearth', 'Google Google  Thuppakki Movie Songs | Star - Vijay ,Kajal Aggarwal', 'Google Play Games App Install in Google Play Store #shorts', 'Never Google this word...']\n"
     ]
    }
   ],
   "source": [
    "from datetime import datetime, timedelta\n",
    "\n",
    "query_list_v2 = ['GOOGLE']\n",
    "date = datetime.now()\n",
    "date_before_list = [(date - timedelta(days=31)).isoformat(\"T\") + \"Z\",(date - timedelta(days=90)).isoformat(\"T\") + \"Z\"]\n",
    "date_after_list = [date.isoformat(\"T\") + \"Z\",(date - timedelta(days=30)).isoformat(\"T\") + \"Z\"]\n",
    "\n",
    "list_for_youtube_v2 = []\n",
    "\n",
    "for query in query_list_v2:\n",
    "    for i in range(2):\n",
    "        print(query, date_before_list[i], date_after_list[i])\n",
    "        titles, ids = fetch_videos_for_date(query, date_before_list[i], date_after_list[i])\n",
    "        list_for_youtube_v2.append({'date': date, 'query': query, 'titles': titles, 'ids': ids})"
   ]
  },
  {
   "cell_type": "markdown",
   "metadata": {},
   "source": [
    "## get comment of video in 1 month and 3 month"
   ]
  },
  {
   "cell_type": "code",
   "execution_count": 118,
   "metadata": {},
   "outputs": [],
   "source": [
    "ids =  ['QX9BDnLBdxM',\n",
    "   'hJbm0shFt2c',\n",
    "   '9JwyQvNXlLE',\n",
    "   'F-tCGESchoY',\n",
    "   'qDrmhyI3XP0',\n",
    "   '1bdaJIIEAIA',\n",
    "   'XINtzmjh83Y',\n",
    "   '3d7RjoeUnyw',\n",
    "   'J8JPAqn2wYA',\n",
    "   'OtHXZTX0KuE',\n",
    "   'iGp62KPFsFs',\n",
    "   '8JOFhNWZix4',\n",
    "   'ahs1cXgiRVw',\n",
    "   '99UuX8mZhGA',\n",
    "   'EYK3rYMDnK8',\n",
    "   'PHb5BbT6WdU',\n",
    "   'ml2vRtks0k4',\n",
    "   'YRvUPSLxP6k',\n",
    "   'qM4H5H6y5oI',\n",
    "   'LdMY7fxA2ow',\n",
    "   '3-Chg5aeYBc',\n",
    "   '7YwAN6kN0wE',\n",
    "   'il5q8vBFZa8',\n",
    "   '7VmpBSC1nsA',\n",
    "   'oS1bHZ9BDtM',\n",
    "   'CgaYZwd3Dkw',\n",
    "   'pxAhlnly_4s',\n",
    "   'LREmmt0c4r0',\n",
    "   'wtAmmgwEZ4s']"
   ]
  },
  {
   "cell_type": "code",
   "execution_count": 1,
   "metadata": {},
   "outputs": [],
   "source": [
    "def get_comments(video_id):\n",
    "    youtube = googleapiclient.discovery.build(\"youtube\", \"v3\", developerKey=api_key)\n",
    "    try:\n",
    "        comments_response = youtube.commentThreads().list(\n",
    "            part=\"snippet\",\n",
    "            videoId=video_id,\n",
    "            order=\"relevance\",\n",
    "            maxResults=10\n",
    "        ).execute()\n",
    "        \n",
    "        comments = [comment['snippet']['topLevelComment']['snippet']['textDisplay'] for comment in comments_response['items']]\n",
    "        comment_time = [comment['snippet']['topLevelComment']['snippet']['publishedAt'] for comment in comments_response['items']]\n",
    "        return comments, comment_time\n",
    "    except :\n",
    "        return []"
   ]
  },
  {
   "cell_type": "code",
   "execution_count": null,
   "metadata": {},
   "outputs": [],
   "source": [
    "comment_list = []\n",
    "for video_id in ids:\n",
    "    comments = get_comments(video_id)\n",
    "    comment_list.append(comments)"
   ]
  }
 ],
 "metadata": {
  "kernelspec": {
   "display_name": "api_Google",
   "language": "python",
   "name": "python3"
  },
  "language_info": {
   "codemirror_mode": {
    "name": "ipython",
    "version": 3
   },
   "file_extension": ".py",
   "mimetype": "text/x-python",
   "name": "python",
   "nbconvert_exporter": "python",
   "pygments_lexer": "ipython3",
   "version": "3.11.7"
  }
 },
 "nbformat": 4,
 "nbformat_minor": 2
}
